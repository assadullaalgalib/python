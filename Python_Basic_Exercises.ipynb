{
  "nbformat": 4,
  "nbformat_minor": 0,
  "metadata": {
    "colab": {
      "provenance": []
    },
    "kernelspec": {
      "name": "python3",
      "display_name": "Python 3"
    },
    "language_info": {
      "name": "python"
    }
  },
  "cells": [
    {
      "cell_type": "markdown",
      "source": [
        "## **Python Basic Exercises**"
      ],
      "metadata": {
        "id": "Cn0dAb7opC0k"
      }
    },
    {
      "cell_type": "markdown",
      "source": [
        "1.\tTake two integer values as input and store them in two variables named X and Y. Multiply these two values and store the result in another variable named Z. Print the values of the variables: X, Y and Z.\n",
        "* *input()* – is used to take input.\n",
        "* *print()* – is used to print a value.\n"
      ],
      "metadata": {
        "id": "c35qUV8Zo-FM"
      }
    },
    {
      "cell_type": "code",
      "execution_count": null,
      "metadata": {
        "colab": {
          "base_uri": "https://localhost:8080/"
        },
        "id": "AAy9xDkpoN-2",
        "outputId": "7b8cd3da-1b87-486a-a5b9-65750027dc08"
      },
      "outputs": [
        {
          "output_type": "stream",
          "name": "stdout",
          "text": [
            "Enter integer:2\n",
            "Enter integer:3\n",
            "2  *  3  =  6\n"
          ]
        }
      ],
      "source": [
        "X = int( input(\"Enter integer:\") )\n",
        "Y = int( input(\"Enter integer:\") )\n",
        "\n",
        "Z = X * Y\n",
        "print(X, \" * \", Y , \" = \", Z)"
      ]
    },
    {
      "cell_type": "markdown",
      "source": [
        "2.\tFind and print the python version that you are using. Use sys.version (module sys) or platform.python_version() (module platform) to find the version.\n",
        "\n",
        "\n",
        "\n",
        "\n",
        "\n",
        "\n",
        "\n"
      ],
      "metadata": {
        "id": "FK_EJir-qJfr"
      }
    },
    {
      "cell_type": "code",
      "source": [
        "import sys\n",
        "print(\"Using sys module: \", sys.version )\n",
        "\n",
        "import platform\n",
        "print(\"Using platform module: \", platform.python_version() )"
      ],
      "metadata": {
        "colab": {
          "base_uri": "https://localhost:8080/"
        },
        "id": "m5bBNnmIqWKC",
        "outputId": "434da7b4-9fdb-4540-b05e-a733378a6c0c"
      },
      "execution_count": null,
      "outputs": [
        {
          "output_type": "stream",
          "name": "stdout",
          "text": [
            "Using sys module:  3.10.12 (main, Jun 11 2023, 05:26:28) [GCC 11.4.0]\n",
            "Using platform module:  3.10.12\n"
          ]
        }
      ]
    },
    {
      "cell_type": "markdown",
      "source": [
        "3.\tUse the Python command help('modules') to find the available built-in modules."
      ],
      "metadata": {
        "id": "SOMX4nZlq58C"
      }
    },
    {
      "cell_type": "code",
      "source": [
        "# help('modules')"
      ],
      "metadata": {
        "id": "cIYg3tNGsR3Q"
      },
      "execution_count": null,
      "outputs": []
    },
    {
      "cell_type": "markdown",
      "source": [
        "4.\tWrite a Python program to print a value without a newline or space."
      ],
      "metadata": {
        "id": "pm8OS6Q0rOVT"
      }
    },
    {
      "cell_type": "code",
      "source": [
        "# print(\"Printing text without newline.\", end=\" \")\n",
        "print(\"Here is a new text with newline...\")"
      ],
      "metadata": {
        "colab": {
          "base_uri": "https://localhost:8080/"
        },
        "id": "hDWJ7CZUrMAO",
        "outputId": "b0f3d16d-5cd4-4839-d829-d926faa873b6"
      },
      "execution_count": null,
      "outputs": [
        {
          "output_type": "stream",
          "name": "stdout",
          "text": [
            "Here is a new text with newline...\n"
          ]
        }
      ]
    },
    {
      "cell_type": "markdown",
      "source": [
        "5.\tTake an integer value as input and determine whether it is an even or odd number. Therefore, print an appropriate message (even/odd)."
      ],
      "metadata": {
        "id": "h22ODoDxsaFU"
      }
    },
    {
      "cell_type": "code",
      "source": [
        "x = int( input(\"Enter an integer number: \") )\n",
        "\n",
        "if x%2 == 0:\n",
        "  print(\"This is an even number.\")\n",
        "else:\n",
        "  print(\"This is an odd number.\")"
      ],
      "metadata": {
        "colab": {
          "base_uri": "https://localhost:8080/"
        },
        "id": "DbIIJReTscr4",
        "outputId": "3aeac519-4f00-4432-a447-89027f0e9459"
      },
      "execution_count": null,
      "outputs": [
        {
          "output_type": "stream",
          "name": "stdout",
          "text": [
            "Enter an integer number: 4\n",
            "This is an even number.\n"
          ]
        }
      ]
    },
    {
      "cell_type": "markdown",
      "source": [
        "6.\tWrite a Python program to swap the values of two variables. Try this exercise with and without using a function."
      ],
      "metadata": {
        "id": "BLCtnvg5tQPC"
      }
    },
    {
      "cell_type": "code",
      "source": [
        "a = 10\n",
        "b = 20\n",
        "print(\"Before swap:\\n a = \", a, \"\\n b = \", b)\n",
        "\n",
        "a, b = b, a\n",
        "print(\"After swap:\\n a = \", a, \"\\n b = \", b)"
      ],
      "metadata": {
        "colab": {
          "base_uri": "https://localhost:8080/"
        },
        "id": "7ot8n4xxtTlV",
        "outputId": "1fa1fe40-0c70-42ad-88a0-1e96a22147f3"
      },
      "execution_count": null,
      "outputs": [
        {
          "output_type": "stream",
          "name": "stdout",
          "text": [
            "Before swap:\n",
            " a =  10 \n",
            " b =  20\n",
            "After swap:\n",
            " a =  20 \n",
            " b =  10\n"
          ]
        }
      ]
    },
    {
      "cell_type": "markdown",
      "source": [
        "7.\tWrite a Python program to print all even numbers from a given list of numbers in the same order."
      ],
      "metadata": {
        "id": "bUn4CuwTtxY-"
      }
    },
    {
      "cell_type": "code",
      "source": [
        "myList = [1,2,3,4,5,6,7,8,9,10]\n",
        "\n",
        "for x in myList:\n",
        "  if x%2 == 0:\n",
        "    print(x, end=\" \")\n",
        "\n",
        "print()"
      ],
      "metadata": {
        "colab": {
          "base_uri": "https://localhost:8080/"
        },
        "id": "eMN79nzYtyLB",
        "outputId": "e431f555-6734-43b5-c42e-73e6ba7d9d26"
      },
      "execution_count": null,
      "outputs": [
        {
          "output_type": "stream",
          "name": "stdout",
          "text": [
            "2 4 6 8 10 \n"
          ]
        }
      ]
    },
    {
      "cell_type": "markdown",
      "source": [
        "8.\tTake a character as input and determine whether it is a vowel or not. Therefore, print an appropriate message (vowel/not vowel)."
      ],
      "metadata": {
        "id": "2xgaTDFQuJDH"
      }
    },
    {
      "cell_type": "code",
      "source": [
        "# this program works only for single input value (one alphabet)\n",
        "in_val = input(\"Enter an alphaber: \")\n",
        "if in_val.lower() in ['a', 'e', 'i', 'o', 'u']:\n",
        "  print(\"It is a vowel.\")\n",
        "else:\n",
        "  print(\"It is a consonant.\")"
      ],
      "metadata": {
        "colab": {
          "base_uri": "https://localhost:8080/"
        },
        "id": "sNJx-DDTuKBi",
        "outputId": "20910313-0e73-427f-8872-ae1ff91a848d"
      },
      "execution_count": null,
      "outputs": [
        {
          "output_type": "stream",
          "name": "stdout",
          "text": [
            "Enter an alphaber: Aa\n",
            "It is a consonant.\n"
          ]
        }
      ]
    },
    {
      "cell_type": "markdown",
      "source": [
        "9.\tWrite a Python program that accepts a filename from the user and prints the extension of the file."
      ],
      "metadata": {
        "id": "M6mffRmwvG1W"
      }
    },
    {
      "cell_type": "code",
      "source": [
        "fileName = input(\"Enter a file name: \")\n",
        "fileExtension = fileName.split('.')[-1]\n",
        "\n",
        "print(\"Your file extension is '.{}'.\".format(fileExtension))"
      ],
      "metadata": {
        "colab": {
          "base_uri": "https://localhost:8080/"
        },
        "id": "T03OzRFqvHqb",
        "outputId": "8464fa00-d9ac-46b2-b202-9cc4be1a7e8c"
      },
      "execution_count": null,
      "outputs": [
        {
          "output_type": "stream",
          "name": "stdout",
          "text": [
            "Enter a file name: xyz.pptx\n",
            "Your file extension is '.pptx'.\n"
          ]
        }
      ]
    },
    {
      "cell_type": "markdown",
      "source": [
        "10.\tWrite a Python program to count the number of occurrences of a specific character in a string.\n",
        "[try using count()]\n"
      ],
      "metadata": {
        "id": "a2CrhEc4wHjP"
      }
    },
    {
      "cell_type": "code",
      "source": [
        "in_str = input(\"Enter a string:\")\n",
        "in_char = input(\"Enter an alphabet to count frequency: \")\n",
        "\n",
        "print(in_str.count(in_char))"
      ],
      "metadata": {
        "colab": {
          "base_uri": "https://localhost:8080/"
        },
        "id": "qNa4p5ogwLf9",
        "outputId": "5f367d65-f134-43bb-bd8a-618c9fdaf509"
      },
      "execution_count": null,
      "outputs": [
        {
          "output_type": "stream",
          "name": "stdout",
          "text": [
            "Enter a string:abcba\n",
            "Enter an alphabet to count frequency: b\n",
            "2\n"
          ]
        }
      ]
    },
    {
      "cell_type": "markdown",
      "source": [
        "11.\tWrite a Python program to filter positive numbers from a list."
      ],
      "metadata": {
        "id": "fCzfvCYPw40K"
      }
    },
    {
      "cell_type": "code",
      "source": [
        "# NOTE: positive numbers start from 1\n",
        "numbers = [-10, -5, 0, 4, 8, 15]\n",
        "\n",
        "pos_numbers = []\n",
        "for x in numbers:\n",
        "  if x > 0:\n",
        "    pos_numbers.append(x)\n",
        "\n",
        "print(pos_numbers)"
      ],
      "metadata": {
        "colab": {
          "base_uri": "https://localhost:8080/"
        },
        "id": "zqbpeBdNw5h2",
        "outputId": "401fb775-f972-418d-e29d-d43a78ccce9f"
      },
      "execution_count": null,
      "outputs": [
        {
          "output_type": "stream",
          "name": "stdout",
          "text": [
            "[4, 8, 15]\n"
          ]
        }
      ]
    },
    {
      "cell_type": "markdown",
      "source": [
        "12.\tWrite a Python function (user defined/not built-in) to find the maximum and minimum numbers from a sequence of numbers."
      ],
      "metadata": {
        "id": "WwWAcZj4w8Vf"
      }
    },
    {
      "cell_type": "code",
      "source": [
        "from re import M\n",
        "def my_max(numbers):\n",
        "  mx = -100\n",
        "  for x in numbers:\n",
        "    if x > mx:\n",
        "      mx = x\n",
        "\n",
        "  return mx\n",
        "\n",
        "def my_min(numbers):\n",
        "  mn = 100\n",
        "  for x in numbers:\n",
        "    if x < mn:\n",
        "      mn = x\n",
        "  return mn\n",
        "\n",
        "m = my_max([-50, -40, -30, -20, -10, 0, 10, 20, 30, 40, 50])\n",
        "n = my_min([-50, -40, -30, -20, -10, 0, 10, 20, 30, 40, 50])\n",
        "print(\"Max: \", m, \"\\nMin: \", n)"
      ],
      "metadata": {
        "colab": {
          "base_uri": "https://localhost:8080/"
        },
        "id": "w3-ZktU_w9A_",
        "outputId": "d004d243-cc54-4ab3-a628-82b577d0ae8c"
      },
      "execution_count": null,
      "outputs": [
        {
          "output_type": "stream",
          "name": "stdout",
          "text": [
            "Max:  50 \n",
            "Min:  -50\n"
          ]
        }
      ]
    },
    {
      "cell_type": "markdown",
      "source": [
        "13.\tWrite a Python program to find the total number of even and odd numbers from a given list."
      ],
      "metadata": {
        "id": "zU8e-MGGw-aQ"
      }
    },
    {
      "cell_type": "code",
      "source": [
        "odd_count = 0\n",
        "even_count = 0\n",
        "\n",
        "myList = [1,2,3,4,5,6,7,8,9,10]\n",
        "for x in myList:\n",
        "  if x%2 == 0:\n",
        "    even_count += 1\n",
        "  else:\n",
        "    odd_count += 1\n",
        "\n",
        "print(\"Odd count: \", odd_count, \"\\nEven count: \", even_count)\n"
      ],
      "metadata": {
        "colab": {
          "base_uri": "https://localhost:8080/"
        },
        "id": "PD78wBJsw_Sx",
        "outputId": "c7d4b907-75e6-4aef-e85c-648825727d05"
      },
      "execution_count": null,
      "outputs": [
        {
          "output_type": "stream",
          "name": "stdout",
          "text": [
            "Odd count:  5 \n",
            "Even count:  5\n"
          ]
        }
      ]
    },
    {
      "cell_type": "markdown",
      "source": [
        "14.\tWrite a Python program that will sort the numbers of a given list in both ascending and descending order without modifying the original (given) list."
      ],
      "metadata": {
        "id": "abTpAR72xAkk"
      }
    },
    {
      "cell_type": "code",
      "source": [
        "myList = [3,2,1,6,10,4,8,7,9,5]\n",
        "\n",
        "myAscendingList = sorted(myList)\n",
        "myDescendingList = sorted(myList, reverse=True)\n",
        "\n",
        "print(\"Original List: \", myList)\n",
        "print(\"Ascending List: \", myAscendingList)\n",
        "print(\"Descending List: \", myDescendingList)"
      ],
      "metadata": {
        "colab": {
          "base_uri": "https://localhost:8080/"
        },
        "id": "XyUXOPiSxBSu",
        "outputId": "6d2e9efb-a148-4f3b-bce9-3d78c9838969"
      },
      "execution_count": null,
      "outputs": [
        {
          "output_type": "stream",
          "name": "stdout",
          "text": [
            "Original List:  [3, 2, 1, 6, 10, 4, 8, 7, 9, 5]\n",
            "Ascending List:  [1, 2, 3, 4, 5, 6, 7, 8, 9, 10]\n",
            "Descending List:  [10, 9, 8, 7, 6, 5, 4, 3, 2, 1]\n"
          ]
        }
      ]
    },
    {
      "cell_type": "markdown",
      "source": [
        "15.\tTake a line of text (words separated by spaces) as input and find two words that have the highest and the lowest length."
      ],
      "metadata": {
        "id": "dNQvD65mxCnk"
      }
    },
    {
      "cell_type": "code",
      "source": [
        "text_line = input(\"Enter string: \")\n",
        "words = text_line.split(\" \")\n",
        "\n",
        "max_word = min_word = words[0]\n",
        "max_len = -100\n",
        "min_len = 100\n",
        "for w in words:\n",
        "  current_len = len(w)\n",
        "  if current_len > max_len:\n",
        "    max_len = current_len\n",
        "    max_word = w\n",
        "  if current_len < min_len:\n",
        "    min_len = current_len\n",
        "    min_word = w\n",
        "\n",
        "print(\"Hghest length word: \", max_word, \"\\nLowest length word: \", min_word)"
      ],
      "metadata": {
        "id": "A4v_HsIuxDFf"
      },
      "execution_count": null,
      "outputs": []
    },
    {
      "cell_type": "markdown",
      "source": [
        "16.\tWrite a Python program to get the largest and the smallest number from a list."
      ],
      "metadata": {
        "id": "DQW3Ub4jxEny"
      }
    },
    {
      "cell_type": "code",
      "source": [
        "largest = -100\n",
        "smallest = 100\n",
        "\n",
        "numbers = [-50, -40, -30, -20, -10, 0, 10, 20, 30, 40, 50]\n",
        "for x in numbers:\n",
        "  if x > largest:\n",
        "    largest = x\n",
        "  if x < smallest:\n",
        "    smallest = x\n",
        "\n",
        "print(\"Largest: \", largest, \"\\nSmallest: \", smallest)"
      ],
      "metadata": {
        "colab": {
          "base_uri": "https://localhost:8080/"
        },
        "id": "_TtTB-5GxFJh",
        "outputId": "b9c6f27f-b580-4474-f29d-9d8e0487f1c9"
      },
      "execution_count": null,
      "outputs": [
        {
          "output_type": "stream",
          "name": "stdout",
          "text": [
            "Largest:  50 \n",
            "Smallest:  -50\n"
          ]
        }
      ]
    },
    {
      "cell_type": "markdown",
      "source": [
        "17.\tWrite a Python program to print a specified list after removing the elements from some specific positions such as removing 0th, 4th and 5th elements from a list of length 6."
      ],
      "metadata": {
        "id": "GoNYFi-5xFqG"
      }
    },
    {
      "cell_type": "code",
      "source": [
        "numbers = [-10, -5, 0, 4, 8, 15]\n",
        "new_numbers = []\n",
        "for ind, val in enumerate(numbers):\n",
        "  if ind not in [0,4,5]:\n",
        "    new_numbers.append(val)\n",
        "\n",
        "print(\"After removing: \", new_numbers)"
      ],
      "metadata": {
        "colab": {
          "base_uri": "https://localhost:8080/"
        },
        "id": "TnIoTSitxHo1",
        "outputId": "e23ba963-f200-4e17-c179-8f04e4abd18f"
      },
      "execution_count": null,
      "outputs": [
        {
          "output_type": "stream",
          "name": "stdout",
          "text": [
            "After removing:  [-5, 0, 4]\n"
          ]
        }
      ]
    },
    {
      "cell_type": "markdown",
      "source": [
        "18.\tDefine a function that receives a list of values and print all values of the odd indices."
      ],
      "metadata": {
        "id": "lsPuPn8PxICG"
      }
    },
    {
      "cell_type": "code",
      "source": [
        "def print_odd_index_values(numbers):\n",
        "  for ind, val in enumerate(numbers):\n",
        "    if ind%2 != 0:\n",
        "      print(val, end=\" \")\n",
        "\n",
        "  print()\n",
        "\n",
        "print_odd_index_values([1,2,3,4,5,6,7,8,9,10])"
      ],
      "metadata": {
        "colab": {
          "base_uri": "https://localhost:8080/"
        },
        "id": "jyCCTDc1xJ2f",
        "outputId": "d9f7f2be-7e5e-4f19-c4a4-ca04e46ba1ba"
      },
      "execution_count": null,
      "outputs": [
        {
          "output_type": "stream",
          "name": "stdout",
          "text": [
            "2 4 6 8 10 \n"
          ]
        }
      ]
    },
    {
      "cell_type": "markdown",
      "source": [
        "19.\tWrite a Python program to sort (ascending and descending) a dictionary by value or by key."
      ],
      "metadata": {
        "id": "S9L8uCWUxLZs"
      }
    },
    {
      "cell_type": "code",
      "source": [
        "my_dict = {'b': 3, 'a': 2, 'c': 1}\n",
        "\n",
        "# ascending order\n",
        "dict_key_sorted = dict(sorted(my_dict.items(), key=lambda item: item[0]))\n",
        "dict_value_sorted = dict(sorted(my_dict.items(), key=lambda item: item[1]))\n",
        "\n",
        "print(\"Ascending order\")\n",
        "print(dict_key_sorted)\n",
        "print(dict_value_sorted)\n",
        "\n",
        "# descending order\n",
        "dict_key_sorted = dict(sorted(my_dict.items(), reverse=True, key=lambda item: item[0]))\n",
        "dict_value_sorted = dict(sorted(my_dict.items(), reverse=True, key=lambda item: item[1]))\n",
        "\n",
        "print(\"Descending order\")\n",
        "print(dict_key_sorted)\n",
        "print(dict_value_sorted)"
      ],
      "metadata": {
        "colab": {
          "base_uri": "https://localhost:8080/"
        },
        "id": "C0YbP4XoxL4g",
        "outputId": "77711aab-4c44-4836-8ca4-6d64932efe8c"
      },
      "execution_count": null,
      "outputs": [
        {
          "output_type": "stream",
          "name": "stdout",
          "text": [
            "Ascending order\n",
            "{'a': 2, 'b': 3, 'c': 1}\n",
            "{'c': 1, 'a': 2, 'b': 3}\n",
            "Descending order\n",
            "{'c': 1, 'b': 3, 'a': 2}\n",
            "{'b': 3, 'a': 2, 'c': 1}\n"
          ]
        }
      ]
    },
    {
      "cell_type": "markdown",
      "source": [
        "20.\tWrite a Python program to merge two dictionaries. [may use: copy(), update()]"
      ],
      "metadata": {
        "id": "g_guthvQxM_3"
      }
    },
    {
      "cell_type": "code",
      "source": [
        "dict1 = {'a': 1, 'b': 2}\n",
        "dict2 = {'d': 4, 'c': 3}\n",
        "\n",
        "dict1.update(dict2)\n",
        "print(dict1)\n",
        "\n",
        "# use the code below if you don't want to modify the original dictionary\n",
        "# dict3 = { **dict1, **dict2}\n",
        "# print(dict1)\n",
        "# print(dict2)\n",
        "# print(dict3)"
      ],
      "metadata": {
        "colab": {
          "base_uri": "https://localhost:8080/"
        },
        "id": "cBvNWOMJxNbN",
        "outputId": "ec26cd82-d757-48c5-db08-fc864ddf806a"
      },
      "execution_count": null,
      "outputs": [
        {
          "output_type": "stream",
          "name": "stdout",
          "text": [
            "{'a': 1, 'b': 2, 'd': 4, 'c': 3}\n"
          ]
        }
      ]
    },
    {
      "cell_type": "markdown",
      "source": [
        "21.\tDefine a search function that receives a dictionary and a target value. Therefore, check if the target value exists in the dictionary values and return the corresponding key of the dictionary where the target value is found."
      ],
      "metadata": {
        "id": "6yyjL7WpxPKy"
      }
    },
    {
      "cell_type": "code",
      "source": [
        "def search_dictionary(myDict, target):\n",
        "  for key, val in myDict.items():\n",
        "    if val == target:\n",
        "      return key\n",
        "\n",
        "  return None\n",
        "\n",
        "targetIndex = search_dictionary({'a': 1, 'b': 2, 'd': 4, 'c': 3}, 4)\n",
        "\n",
        "if targetIndex != None:\n",
        "  print(\"Value found in index: \", targetIndex)\n",
        "else:\n",
        "  print(\"Target value not found.\")"
      ],
      "metadata": {
        "colab": {
          "base_uri": "https://localhost:8080/"
        },
        "id": "4oSorkhexQAE",
        "outputId": "0de424d6-16ec-4983-ac11-17869d63e4d2"
      },
      "execution_count": null,
      "outputs": [
        {
          "output_type": "stream",
          "name": "stdout",
          "text": [
            "Value found in index:  d\n"
          ]
        }
      ]
    }
  ]
}